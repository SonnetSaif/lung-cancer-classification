{
  "nbformat": 4,
  "nbformat_minor": 0,
  "metadata": {
    "colab": {
      "provenance": []
    },
    "kernelspec": {
      "name": "python3",
      "display_name": "Python 3"
    },
    "language_info": {
      "name": "python"
    },
    "gpuClass": "standard",
    "accelerator": "GPU"
  },
  "cells": [
    {
      "cell_type": "code",
      "execution_count": null,
      "metadata": {
        "id": "-GoeZbaeWxEj"
      },
      "outputs": [],
      "source": [
        "import tensorflow as tf\n",
        "from tensorflow import keras\n",
        "from tensorflow.keras import backend as K\n",
        "from tensorflow.keras.layers import Dense, Activation,Dropout, Conv2D, GaussianNoise, MaxPooling2D, BatchNormalization, Flatten\n",
        "from tensorflow.keras.optimizers import Adam, Adamax\n",
        "from tensorflow.keras.metrics import categorical_crossentropy\n",
        "from tensorflow.keras import regularizers\n",
        "from tensorflow.keras.preprocessing.image import ImageDataGenerator\n",
        "from tensorflow.keras.models import Model, load_model, Sequential\n",
        "import numpy as np\n",
        "import pandas as pd\n",
        "import shutil\n",
        "import time\n",
        "import gc\n",
        "import cv2 as cv2\n",
        "from tqdm import tqdm\n",
        "from sklearn.model_selection import train_test_split\n",
        "from sklearn.model_selection import KFold\n",
        "import matplotlib.pyplot as plt\n",
        "from matplotlib.pyplot import imshow\n",
        "import os\n",
        "import seaborn as sns\n",
        "sns.set_style('darkgrid')\n",
        "from PIL import Image\n",
        "from sklearn.metrics import confusion_matrix, classification_report\n",
        "from IPython.core.display import display, HTML"
      ]
    },
    {
      "cell_type": "code",
      "source": [
        "from google.colab import drive\n",
        "drive.mount('/content/drive')"
      ],
      "metadata": {
        "colab": {
          "base_uri": "https://localhost:8080/"
        },
        "id": "CiBU6cwA847B",
        "outputId": "868b0399-ae0a-4c17-e3ed-7f379cf6a119"
      },
      "execution_count": null,
      "outputs": [
        {
          "output_type": "stream",
          "name": "stdout",
          "text": [
            "Mounted at /content/drive\n"
          ]
        }
      ]
    },
    {
      "cell_type": "code",
      "source": [
        "lung_dir=r'drive/MyDrive/Colab Notebooks/lung_cancer/lung_image_sets'\n",
        "# lung_dir=r'drive/MyDrive/Colab Notebooks/sscl/Iftakhar'\n",
        "# annotations_dir=r'drive/MyDrive/Colab Notebooks/sscl/Iftakhar'\n",
        "\n",
        "for i,d in enumerate([lung_dir]):\n",
        "    filepaths=[]\n",
        "    labels=[]\n",
        "    classlist=os.listdir(d)\n",
        "    print(classlist)\n",
        "    for klass in classlist:\n",
        "        classpath=os.path.join(d,klass)\n",
        "        if os.path.isdir(classpath):\n",
        "            flist=os.listdir(classpath)\n",
        "            for f in flist:\n",
        "                fpath=os.path.join(classpath,f)\n",
        "                filepaths.append(fpath)\n",
        "                labels.append(klass)                   \n",
        "    Fseries= pd.Series(filepaths, name='filepaths')\n",
        "    Lseries=pd.Series(labels, name='labels')\n",
        "    lung_df=pd.concat([Fseries, Lseries], axis=1)\n",
        "df=pd.concat([lung_df], axis =0).reset_index(drop=True)# make a combined dataframe\n",
        "print(df.head())\n",
        "print(df['labels'].value_counts())"
      ],
      "metadata": {
        "colab": {
          "base_uri": "https://localhost:8080/"
        },
        "id": "aBJAxb-eaw8r",
        "outputId": "5a51e154-bf52-4265-de6e-95a0ba297e50"
      },
      "execution_count": null,
      "outputs": [
        {
          "output_type": "stream",
          "name": "stdout",
          "text": [
            "['lung_aca', 'lung_scc', 'lung_n']\n",
            "                                           filepaths    labels\n",
            "0  drive/MyDrive/Colab Notebooks/lung_cancer/lung...  lung_aca\n",
            "1  drive/MyDrive/Colab Notebooks/lung_cancer/lung...  lung_aca\n",
            "2  drive/MyDrive/Colab Notebooks/lung_cancer/lung...  lung_aca\n",
            "3  drive/MyDrive/Colab Notebooks/lung_cancer/lung...  lung_aca\n",
            "4  drive/MyDrive/Colab Notebooks/lung_cancer/lung...  lung_aca\n",
            "lung_aca    5000\n",
            "lung_scc    5000\n",
            "lung_n      5000\n",
            "Name: labels, dtype: int64\n"
          ]
        }
      ]
    },
    {
      "cell_type": "code",
      "source": [
        "sample_size=3000\n",
        "sample_list=[]\n",
        "group=df.groupby('labels')\n",
        "for label in df['labels'].unique():    \n",
        "    label_group=group.get_group(label).sample(sample_size, replace=False, random_state=123, axis=0)    \n",
        "    sample_list.append(label_group)\n",
        "df=pd.concat(sample_list, axis=0).reset_index(drop=True)\n",
        "print(len(df))"
      ],
      "metadata": {
        "colab": {
          "base_uri": "https://localhost:8080/"
        },
        "id": "IGcFpwMVbR-9",
        "outputId": "da670db9-f66c-4307-fe1f-b5c8cabbc56a"
      },
      "execution_count": null,
      "outputs": [
        {
          "output_type": "stream",
          "name": "stdout",
          "text": [
            "9000\n"
          ]
        }
      ]
    },
    {
      "cell_type": "code",
      "source": [
        "def show_image_samples(gen):\n",
        "    test_dict=test_gen.class_indices\n",
        "    classes=list(test_dict.keys())    \n",
        "    images,labels=next(gen) # get a sample batch from the generator \n",
        "    plt.figure(figsize=(20, 20))\n",
        "    length=len(labels)\n",
        "    if length<25:   #show maximum of 25 images\n",
        "        r=length\n",
        "    else:\n",
        "        r=25\n",
        "    for i in range(r):\n",
        "        plt.subplot(5, 5, i + 1)\n",
        "        image=(images[i]+1 )/2 # scale images between 0 and 1 becaue pre-processor set them between -1 and +1\n",
        "        plt.imshow(image)\n",
        "        index=np.argmax(labels[i])\n",
        "        class_name=classes[index]\n",
        "        plt.title(class_name, color='blue', fontsize=16)\n",
        "        plt.axis('off')\n",
        "    plt.show()"
      ],
      "metadata": {
        "id": "TSs7Y09xC6-G"
      },
      "execution_count": null,
      "outputs": []
    },
    {
      "cell_type": "code",
      "source": [
        "class LRA(keras.callbacks.Callback):\n",
        "    reset=False\n",
        "    count=0\n",
        "    stop_count=0\n",
        "    tepochs=0\n",
        "    def __init__(self,model, patience,stop_patience, threshold, factor, dwell, model_name, freeze, initial_epoch):\n",
        "        super(LRA, self).__init__()\n",
        "        self.model=model\n",
        "        self.patience=patience # specifies how many epochs without improvement before learning rate is adjusted\n",
        "        self.stop_patience=stop_patience\n",
        "        self.threshold=threshold # specifies training accuracy threshold when lr will be adjusted based on validation loss\n",
        "        self.factor=factor # factor by which to reduce the learning rate\n",
        "        self.dwell=dwell\n",
        "        self.lr=float(tf.keras.backend.get_value(model.optimizer.lr)) # get the initiallearning rate and save it in self.lr\n",
        "        self.highest_tracc=0.0 # set highest training accuracy to 0\n",
        "        self.lowest_vloss=np.inf # set lowest validation loss to infinity\n",
        "        #self.count=0 # initialize counter that counts epochs with no improvement\n",
        "        #self.stop_count=0 # initialize counter that counts how manytimes lr has been adjustd with no improvement  \n",
        "        self.initial_epoch=initial_epoch \n",
        "        #self.epochs=epochs\n",
        "        best_weights=self.model.get_weights() # set a class vaiable so weights can be loaded after training is completed        \n",
        "        msg=' '\n",
        "        if freeze==True:\n",
        "            msgs=f' Starting training using  base model { model_name} with weights frozen to imagenet weights initializing LRA callback'\n",
        "        else:\n",
        "            msgs=f' Starting training using base model { model_name} training all layers '            \n",
        "        print_in_color (msgs, (244, 252, 3), (55,65,80)) \n",
        "        \n",
        "    def on_epoch_begin(self,epoch, logs=None):\n",
        "        self.now= time.time()\n",
        "        \n",
        "    def on_epoch_end(self, epoch, logs=None):  # method runs on the end of each epoch\n",
        "        later=time.time()\n",
        "        duration=later-self.now        \n",
        "        if epoch== self.initial_epoch or LRA.reset==True:  \n",
        "            LRA.reset=False           \n",
        "            msg='{0:^8s}{1:^10s}{2:^9s}{3:^9s}{4:^9s}{5:^9s}{6:^9s}{7:^11s}{8:^8s}'.format('Epoch', 'Loss', 'Accuracy','V_loss','V_acc', 'LR', 'Next LR', 'Monitor', 'Duration')\n",
        "            print_in_color(msg, (244,252,3), (55,65,80)) \n",
        "            \n",
        "        lr=float(tf.keras.backend.get_value(self.model.optimizer.lr)) # get the current learning rate\n",
        "        current_lr=lr\n",
        "        v_loss=logs.get('val_loss')  # get the validation loss for this epoch\n",
        "        acc=logs.get('accuracy')  # get training accuracy \n",
        "        v_acc=logs.get('val_accuracy')\n",
        "        loss=logs.get('loss')\n",
        "        #print ( '\\n',v_loss, self.lowest_vloss, acc, self.highest_tracc)\n",
        "        if acc < self.threshold: # if training accuracy is below threshold adjust lr based on training accuracy\n",
        "            monitor='accuracy'\n",
        "            if acc>self.highest_tracc: # training accuracy improved in the epoch                \n",
        "                self.highest_tracc=acc # set new highest training accuracy\n",
        "                LRA.best_weights=self.model.get_weights() # traing accuracy improved so save the weights\n",
        "                self.count=0 # set count to 0 since training accuracy improved\n",
        "                self.stop_count=0 # set stop counter to 0\n",
        "                if v_loss<self.lowest_vloss:\n",
        "                    self.lowest_vloss=v_loss\n",
        "                color= (0,255,0)\n",
        "                self.lr=lr\n",
        "            else: \n",
        "                # training accuracy did not improve check if this has happened for patience number of epochs\n",
        "                # if so adjust learning rate\n",
        "                if self.count>=self.patience -1:\n",
        "                    color=(245, 170, 66)\n",
        "                    self.lr= lr* self.factor # adjust the learning by factor\n",
        "                    tf.keras.backend.set_value(self.model.optimizer.lr, self.lr) # set the learning rate in the optimizer\n",
        "                    self.count=0 # reset the count to 0\n",
        "                    self.stop_count=self.stop_count + 1\n",
        "                    if self.dwell:\n",
        "                        self.model.set_weights(LRA.best_weights) # return to better point in N space                        \n",
        "                    else:\n",
        "                        if v_loss<self.lowest_vloss:\n",
        "                            self.lowest_vloss=v_loss                                    \n",
        "                else:\n",
        "                    self.count=self.count +1 # increment patience counter                    \n",
        "        else: # training accuracy is above threshold so adjust learning rate based on validation loss\n",
        "            monitor='val_loss'\n",
        "            if v_loss< self.lowest_vloss: # check if the validation loss improved \n",
        "                self.lowest_vloss=v_loss # replace lowest validation loss with new validation loss                \n",
        "                LRA.best_weights=self.model.get_weights() # validation loss improved so save the weights\n",
        "                self.count=0 # reset count since validation loss improved  \n",
        "                self.stop_count=0  \n",
        "                color=(0,255,0)\n",
        "                self.lr=lr\n",
        "            else: # validation loss did not improve\n",
        "                if self.count>=self.patience-1:\n",
        "                    color=(245, 170, 66)\n",
        "                    self.lr=self.lr * self.factor # adjust the learning rate\n",
        "                    self.stop_count=self.stop_count + 1 # increment stop counter because lr was adjusted \n",
        "                    self.count=0 # reset counter\n",
        "                    tf.keras.backend.set_value(self.model.optimizer.lr, self.lr) # set the learning rate in the optimizer\n",
        "                    if self.dwell:\n",
        "                        self.model.set_weights(LRA.best_weights) # return to better point in N space\n",
        "                else: \n",
        "                    self.count =self.count +1 # increment the patience counter                    \n",
        "                if acc>self.highest_tracc:\n",
        "                    self.highest_tracc= acc\n",
        "        msg=f'{str(epoch+1):^3s}/{str(LRA.tepochs):4s} {loss:^9.3f}{acc*100:^9.3f}{v_loss:^9.5f}{v_acc*100:^9.3f}{current_lr:^9.5f}{self.lr:^9.5f}{monitor:^11s}{duration:^8.2f}'\n",
        "        print_in_color (msg,color, (55,65,80))\n",
        "        if self.stop_count> self.stop_patience - 1: # check if learning rate has been adjusted stop_count times with no improvement\n",
        "            msg=f' training has been halted at epoch {epoch + 1} after {self.stop_patience} adjustments of learning rate with no improvement'\n",
        "            print_in_color(msg, (0,255,0), (55,65,80))\n",
        "            self.model.stop_training = True # stop training"
      ],
      "metadata": {
        "id": "RqiQLU2Is9sB"
      },
      "execution_count": null,
      "outputs": []
    },
    {
      "cell_type": "code",
      "source": [
        "def print_in_color(txt_msg,fore_tupple,back_tupple,):\n",
        "    #prints the text_msg in the foreground color specified by fore_tupple with the background specified by back_tupple \n",
        "    #text_msg is the text, fore_tupple is foregroud color tupple (r,g,b), back_tupple is background tupple (r,g,b)\n",
        "    rf,gf,bf=fore_tupple\n",
        "    rb,gb,bb=back_tupple\n",
        "    msg='{0}' + txt_msg\n",
        "    mat='\\33[38;2;' + str(rf) +';' + str(gf) + ';' + str(bf) + ';48;2;' + str(rb) + ';' +str(gb) + ';' + str(bb) +'m' \n",
        "    print(msg .format(mat), flush=True)\n",
        "    print('\\33[0m', flush=True) # returns default print color to back to black\n",
        "    return"
      ],
      "metadata": {
        "id": "BEOIuSqhtoKo"
      },
      "execution_count": null,
      "outputs": []
    },
    {
      "cell_type": "code",
      "source": [
        "def scalar(img):\n",
        "  return img/127.5-1  # scale pixel between -1 and +1"
      ],
      "metadata": {
        "id": "z5tSH5LngDwp"
      },
      "execution_count": null,
      "outputs": []
    },
    {
      "cell_type": "code",
      "source": [
        "gen = ImageDataGenerator(preprocessing_function=scalar, \n",
        "                         horizontal_flip=True, \n",
        "                         vertical_flip=True, \n",
        "                         height_shift_range= 0.2,\n",
        "                         width_shift_range=0.2,\n",
        "                         shear_range = 0.2,\n",
        "                         zoom_range=0.2,\n",
        "                         rotation_range=180,\n",
        "                         brightness_range=[0.2,0.9])\n",
        "                        #  zoom_range=[0.5,1.0])"
      ],
      "metadata": {
        "id": "pFOpDcUtxpb9"
      },
      "execution_count": null,
      "outputs": []
    },
    {
      "cell_type": "code",
      "source": [
        "train_split=.8  \n",
        "train_df, test_df=train_test_split(df, train_size=train_split, shuffle=True, random_state=123)"
      ],
      "metadata": {
        "id": "gT9a6RsOek-C"
      },
      "execution_count": null,
      "outputs": []
    },
    {
      "cell_type": "code",
      "source": [
        "print ('train_df length: ', len(train_df), ' _test_df length: ', len(test_df))"
      ],
      "metadata": {
        "id": "VEml_DFvgC57",
        "outputId": "76c4f2fe-6be8-432a-f2a6-8cf205588737",
        "colab": {
          "base_uri": "https://localhost:8080/"
        }
      },
      "execution_count": null,
      "outputs": [
        {
          "output_type": "stream",
          "name": "stdout",
          "text": [
            "train_df length:  7200  _test_df length:  1800\n"
          ]
        }
      ]
    },
    {
      "cell_type": "code",
      "source": [
        "height=224\n",
        "width=224\n",
        "channels=3\n",
        "batch_size=32\n",
        "\n",
        "img_shape=(height, width, channels)\n",
        "img_size=(height, width)\n",
        "length=len(test_df)\n",
        "\n",
        "test_batch_size=sorted([int(length/n) for n in range(1,length+1) if length % n == 0 and length/n<=80],reverse=True)[0]  \n",
        "test_steps=int(length/test_batch_size)\n",
        "print ( 'test batch size: ' ,test_batch_size, '  test steps: ', test_steps)\n",
        "\n",
        "test_gen=gen.flow_from_dataframe( test_df, x_col='filepaths', y_col='labels', target_size=img_size, class_mode='categorical',\n",
        "                                      color_mode='rgb', shuffle=False, batch_size=test_batch_size)"
      ],
      "metadata": {
        "id": "1Dm4v5GsgATp",
        "colab": {
          "base_uri": "https://localhost:8080/"
        },
        "outputId": "9166e80c-2d89-441c-d6f7-ed1f6eb3f2fe"
      },
      "execution_count": null,
      "outputs": [
        {
          "output_type": "stream",
          "name": "stdout",
          "text": [
            "test batch size:  75   test steps:  24\n",
            "Found 1800 validated image filenames belonging to 3 classes.\n"
          ]
        }
      ]
    },
    {
      "cell_type": "code",
      "source": [
        "from keras.applications import ResNet101\n",
        "model_name='ResNet101'\n",
        "\n",
        "num_folds = 10\n",
        "kfold = KFold(n_splits = num_folds, random_state=123, shuffle=True)\n",
        "X = np.array(train_df[\"filepaths\"])\n",
        "fold_no = 1\n",
        "for train_index, valid_index in kfold.split(X):\n",
        "  trainData = X[train_index]\n",
        "  validData = X[valid_index]\n",
        "  train_df = df.loc[df[\"filepaths\"].isin(list(trainData))]\n",
        "  valid_df = df.loc[df[\"filepaths\"].isin(list(validData))]\n",
        "\n",
        "  train_gen = gen.flow_from_dataframe( train_df, x_col='filepaths', y_col='labels', target_size=img_size, class_mode='categorical',\n",
        "                                    color_mode='rgb', shuffle=True, batch_size=batch_size)\n",
        "  valid_gen = gen.flow_from_dataframe( valid_df, x_col='filepaths', y_col='labels', target_size=img_size, class_mode='categorical',\n",
        "                                    color_mode='rgb', shuffle=True, batch_size=batch_size)\n",
        "\n",
        "  classes = list(train_gen.class_indices.keys())\n",
        "  class_count = len(classes)\n",
        "\n",
        "  base_model = ResNet101(input_shape=(224, 224, 3), weights='imagenet', pooling=\"avg\", include_top=False)\n",
        "  x = base_model.output\n",
        "  x = keras.layers.BatchNormalization(axis=-1, momentum=0.99, epsilon=0.001 )(x)\n",
        "  x = GaussianNoise(0.5)(x)\n",
        "  x = Dense(256, kernel_regularizer = regularizers.l2(l = 0.016),activity_regularizer=regularizers.l1(0.006),\n",
        "                  bias_regularizer=regularizers.l1(0.006) ,activation='relu')(x)\n",
        "  x = Dropout(rate=.45, seed=123)(x) \n",
        "  output = Dense(class_count, activation='softmax')(x)\n",
        "  model = Model(inputs=base_model.input, outputs=output)\n",
        "  model.compile(Adamax(lr=.001), loss='categorical_crossentropy', metrics=['accuracy'])\n",
        "\n",
        "  epochs = 30\n",
        "  patience = 1 # number of epochs to wait to adjust lr if monitored value does not improve\n",
        "  stop_patience = 3 # number of epochs to wait before stopping training if monitored value does not improve\n",
        "  threshold = .9 # if train accuracy is < threshhold adjust monitor accuracy, else monitor validation loss\n",
        "  factor = .5 # factor to reduce lr by\n",
        "  dwell = True # experimental, if True and monitored metric does not improve on current epoch set  modelweights back to weights of previous epoch\n",
        "  freeze = False # if true free weights of  the base model\n",
        "  callbacks = [LRA(model=model,patience=patience, stop_patience=stop_patience, threshold=threshold,\n",
        "                    factor=factor,dwell=dwell, model_name=model_name, freeze=freeze, initial_epoch=0 )]\n",
        "  LRA.tepochs = epochs  # used to determine value of last epoch for printing\n",
        "\n",
        "  print('------------------------------------------------------------------------')\n",
        "  print(f'Training for fold {fold_no} ...')\n",
        "  print('------------------------------------------------------------------------')\n",
        "  history = model.fit(x=train_gen, epochs=epochs, callbacks=callbacks, verbose=0, validation_data=valid_gen,\n",
        "                  validation_steps=None, shuffle=False, initial_epoch=0)\n",
        "  fold_no = fold_no + 1"
      ],
      "metadata": {
        "id": "s752NoAC_Th8",
        "colab": {
          "base_uri": "https://localhost:8080/",
          "height": 1000
        },
        "outputId": "4aa07cac-263b-46cc-cdba-362e0d071b98"
      },
      "execution_count": null,
      "outputs": [
        {
          "output_type": "stream",
          "name": "stdout",
          "text": [
            "Found 5832 validated image filenames belonging to 3 classes.\n",
            "Found 648 validated image filenames belonging to 3 classes.\n",
            "Downloading data from https://storage.googleapis.com/tensorflow/keras-applications/resnet/resnet101_weights_tf_dim_ordering_tf_kernels_notop.h5\n",
            "171446536/171446536 [==============================] - 1s 0us/step\n"
          ]
        },
        {
          "output_type": "stream",
          "name": "stderr",
          "text": [
            "/usr/local/lib/python3.7/dist-packages/keras/optimizers/optimizer_v2/adamax.py:95: UserWarning: The `lr` argument is deprecated, use `learning_rate` instead.\n",
            "  super(Adamax, self).__init__(name, **kwargs)\n"
          ]
        },
        {
          "output_type": "stream",
          "name": "stdout",
          "text": [
            "\u001b[38;2;244;252;3;48;2;55;65;80m Starting training using base model ResNet101 training all layers \n",
            "\u001b[0m\n",
            "------------------------------------------------------------------------\n",
            "Training for fold 1 ...\n",
            "------------------------------------------------------------------------\n",
            "\u001b[38;2;244;252;3;48;2;55;65;80m Epoch     Loss   Accuracy  V_loss    V_acc     LR     Next LR   Monitor  Duration\n",
            "\u001b[0m\n",
            "\u001b[38;2;0;255;0;48;2;55;65;80m 1 /30     6.368   86.986   5.80280  33.796   0.00100  0.00100  accuracy  5502.92 \n",
            "\u001b[0m\n",
            "\u001b[38;2;0;255;0;48;2;55;65;80m 2 /30     3.821   94.136   4.44165  36.574   0.00100  0.00100  val_loss   165.93 \n",
            "\u001b[0m\n",
            "\u001b[38;2;0;255;0;48;2;55;65;80m 3 /30     2.488   94.805   2.91466  42.130   0.00100  0.00100  val_loss   168.63 \n",
            "\u001b[0m\n",
            "\u001b[38;2;0;255;0;48;2;55;65;80m 4 /30     1.612   96.365   2.67434  49.383   0.00100  0.00100  val_loss   166.79 \n",
            "\u001b[0m\n",
            "\u001b[38;2;0;255;0;48;2;55;65;80m 5 /30     1.086   96.245   1.06053  87.037   0.00100  0.00100  val_loss   164.39 \n",
            "\u001b[0m\n",
            "\u001b[38;2;0;255;0;48;2;55;65;80m 6 /30     0.742   96.519   0.59812  96.914   0.00100  0.00100  val_loss   167.82 \n",
            "\u001b[0m\n",
            "\u001b[38;2;0;255;0;48;2;55;65;80m 7 /30     0.520   97.068   0.46944  95.833   0.00100  0.00100  val_loss   169.18 \n",
            "\u001b[0m\n",
            "\u001b[38;2;245;170;66;48;2;55;65;80m 8 /30     0.408   96.639   0.49831  92.284   0.00100  0.00050  val_loss   167.34 \n",
            "\u001b[0m\n",
            "\u001b[38;2;0;255;0;48;2;55;65;80m 9 /30     0.403   97.617   0.31521  99.228   0.00050  0.00050  val_loss   165.71 \n",
            "\u001b[0m\n",
            "\u001b[38;2;0;255;0;48;2;55;65;80m10 /30     0.345   98.217   0.28724  98.148   0.00050  0.00050  val_loss   168.06 \n",
            "\u001b[0m\n",
            "\u001b[38;2;245;170;66;48;2;55;65;80m11 /30     0.297   98.217   0.41971  98.302   0.00050  0.00025  val_loss   165.14 \n",
            "\u001b[0m\n",
            "\u001b[38;2;0;255;0;48;2;55;65;80m12 /30     0.292   98.817   0.24902  99.691   0.00025  0.00025  val_loss   164.06 \n",
            "\u001b[0m\n",
            "\u001b[38;2;0;255;0;48;2;55;65;80m13 /30     0.266   99.023   0.24316  100.000  0.00025  0.00025  val_loss   163.45 \n",
            "\u001b[0m\n",
            "\u001b[38;2;0;255;0;48;2;55;65;80m14 /30     0.241   99.280   0.21427  99.691   0.00025  0.00025  val_loss   162.05 \n",
            "\u001b[0m\n",
            "\u001b[38;2;0;255;0;48;2;55;65;80m15 /30     0.225   99.348   0.18923  99.846   0.00025  0.00025  val_loss   163.05 \n",
            "\u001b[0m\n",
            "\u001b[38;2;0;255;0;48;2;55;65;80m16 /30     0.206   99.554   0.17749  100.000  0.00025  0.00025  val_loss   163.93 \n",
            "\u001b[0m\n",
            "\u001b[38;2;0;255;0;48;2;55;65;80m17 /30     0.199   99.400   0.16667  99.846   0.00025  0.00025  val_loss   161.31 \n",
            "\u001b[0m\n",
            "\u001b[38;2;0;255;0;48;2;55;65;80m18 /30     0.188   99.434   0.15934  99.846   0.00025  0.00025  val_loss   163.35 \n",
            "\u001b[0m\n",
            "\u001b[38;2;0;255;0;48;2;55;65;80m19 /30     0.174   99.588   0.14707  100.000  0.00025  0.00025  val_loss   163.71 \n",
            "\u001b[0m\n",
            "\u001b[38;2;245;170;66;48;2;55;65;80m20 /30     0.165   99.606   0.16702  100.000  0.00025  0.00013  val_loss   164.65 \n",
            "\u001b[0m\n",
            "\u001b[38;2;0;255;0;48;2;55;65;80m21 /30     0.162   99.846   0.14102  100.000  0.00013  0.00013  val_loss   165.16 \n",
            "\u001b[0m\n",
            "\u001b[38;2;0;255;0;48;2;55;65;80m22 /30     0.156   99.794   0.13879  99.846   0.00013  0.00013  val_loss   164.21 \n",
            "\u001b[0m\n",
            "\u001b[38;2;0;255;0;48;2;55;65;80m23 /30     0.157   99.588   0.13704  99.846   0.00013  0.00013  val_loss   162.07 \n",
            "\u001b[0m\n",
            "\u001b[38;2;0;255;0;48;2;55;65;80m24 /30     0.151   99.640   0.13314  99.691   0.00013  0.00013  val_loss   161.55 \n",
            "\u001b[0m\n",
            "\u001b[38;2;245;170;66;48;2;55;65;80m25 /30     0.143   99.897   0.13852  100.000  0.00013  0.00006  val_loss   163.59 \n",
            "\u001b[0m\n",
            "\u001b[38;2;0;255;0;48;2;55;65;80m26 /30     0.143   99.829   0.12652  100.000  0.00006  0.00006  val_loss   162.86 \n",
            "\u001b[0m\n",
            "\u001b[38;2;245;170;66;48;2;55;65;80m27 /30     0.141   99.880   0.12886  100.000  0.00006  0.00003  val_loss   161.75 \n",
            "\u001b[0m\n",
            "\u001b[38;2;0;255;0;48;2;55;65;80m28 /30     0.140   99.931   0.12620  100.000  0.00003  0.00003  val_loss   163.30 \n",
            "\u001b[0m\n",
            "\u001b[38;2;245;170;66;48;2;55;65;80m29 /30     0.141   99.897   0.12652  100.000  0.00003  0.00002  val_loss   163.26 \n",
            "\u001b[0m\n",
            "\u001b[38;2;245;170;66;48;2;55;65;80m30 /30     0.140   99.897   0.12807  100.000  0.00002  0.00001  val_loss   162.43 \n",
            "\u001b[0m\n",
            "Found 5832 validated image filenames belonging to 3 classes.\n",
            "Found 648 validated image filenames belonging to 3 classes.\n",
            "\u001b[38;2;244;252;3;48;2;55;65;80m Starting training using base model ResNet101 training all layers \n",
            "\u001b[0m\n",
            "------------------------------------------------------------------------\n",
            "Training for fold 2 ...\n",
            "------------------------------------------------------------------------\n",
            "\u001b[38;2;244;252;3;48;2;55;65;80m Epoch     Loss   Accuracy  V_loss    V_acc     LR     Next LR   Monitor  Duration\n",
            "\u001b[0m\n",
            "\u001b[38;2;0;255;0;48;2;55;65;80m 1 /30     6.529   86.403   5.53729  35.802   0.00100  0.00100  accuracy   175.34 \n",
            "\u001b[0m\n",
            "\u001b[38;2;0;255;0;48;2;55;65;80m 2 /30     3.982   93.210   3.92913  31.173   0.00100  0.00100  val_loss   164.23 \n",
            "\u001b[0m\n",
            "\u001b[38;2;0;255;0;48;2;55;65;80m 3 /30     2.644   94.856   3.49085  31.173   0.00100  0.00100  val_loss   163.76 \n",
            "\u001b[0m\n",
            "\u001b[38;2;0;255;0;48;2;55;65;80m 4 /30     1.774   96.108   2.83084  43.364   0.00100  0.00100  val_loss   163.45 \n",
            "\u001b[0m\n",
            "\u001b[38;2;0;255;0;48;2;55;65;80m 5 /30     1.234   95.730   1.22685  85.648   0.00100  0.00100  val_loss   164.60 \n",
            "\u001b[0m\n",
            "\u001b[38;2;0;255;0;48;2;55;65;80m 6 /30     0.863   96.382   0.70632  96.605   0.00100  0.00100  val_loss   164.01 \n",
            "\u001b[0m\n",
            "\u001b[38;2;0;255;0;48;2;55;65;80m 7 /30     0.643   96.365   0.49847  97.685   0.00100  0.00100  val_loss   164.13 \n",
            "\u001b[0m\n",
            "\u001b[38;2;245;170;66;48;2;55;65;80m 8 /30     0.480   97.205   2.13090  92.901   0.00100  0.00050  val_loss   163.40 \n",
            "\u001b[0m\n"
          ]
        },
        {
          "output_type": "error",
          "ename": "KeyboardInterrupt",
          "evalue": "ignored",
          "traceback": [
            "\u001b[0;31m---------------------------------------------------------------------------\u001b[0m",
            "\u001b[0;31mKeyboardInterrupt\u001b[0m                         Traceback (most recent call last)",
            "\u001b[0;32m<ipython-input-14-3003d9ea5f7d>\u001b[0m in \u001b[0;36m<module>\u001b[0;34m\u001b[0m\n\u001b[1;32m     46\u001b[0m   \u001b[0mprint\u001b[0m\u001b[0;34m(\u001b[0m\u001b[0;34m'------------------------------------------------------------------------'\u001b[0m\u001b[0;34m)\u001b[0m\u001b[0;34m\u001b[0m\u001b[0;34m\u001b[0m\u001b[0m\n\u001b[1;32m     47\u001b[0m   history = model.fit(x=train_gen, epochs=epochs, callbacks=callbacks, verbose=0, validation_data=valid_gen,\n\u001b[0;32m---> 48\u001b[0;31m                   validation_steps=None, shuffle=False, initial_epoch=0)\n\u001b[0m\u001b[1;32m     49\u001b[0m   \u001b[0mfold_no\u001b[0m \u001b[0;34m=\u001b[0m \u001b[0mfold_no\u001b[0m \u001b[0;34m+\u001b[0m \u001b[0;36m1\u001b[0m\u001b[0;34m\u001b[0m\u001b[0;34m\u001b[0m\u001b[0m\n",
            "\u001b[0;32m/usr/local/lib/python3.7/dist-packages/keras/utils/traceback_utils.py\u001b[0m in \u001b[0;36merror_handler\u001b[0;34m(*args, **kwargs)\u001b[0m\n\u001b[1;32m     62\u001b[0m     \u001b[0mfiltered_tb\u001b[0m \u001b[0;34m=\u001b[0m \u001b[0;32mNone\u001b[0m\u001b[0;34m\u001b[0m\u001b[0;34m\u001b[0m\u001b[0m\n\u001b[1;32m     63\u001b[0m     \u001b[0;32mtry\u001b[0m\u001b[0;34m:\u001b[0m\u001b[0;34m\u001b[0m\u001b[0;34m\u001b[0m\u001b[0m\n\u001b[0;32m---> 64\u001b[0;31m       \u001b[0;32mreturn\u001b[0m \u001b[0mfn\u001b[0m\u001b[0;34m(\u001b[0m\u001b[0;34m*\u001b[0m\u001b[0margs\u001b[0m\u001b[0;34m,\u001b[0m \u001b[0;34m**\u001b[0m\u001b[0mkwargs\u001b[0m\u001b[0;34m)\u001b[0m\u001b[0;34m\u001b[0m\u001b[0;34m\u001b[0m\u001b[0m\n\u001b[0m\u001b[1;32m     65\u001b[0m     \u001b[0;32mexcept\u001b[0m \u001b[0mException\u001b[0m \u001b[0;32mas\u001b[0m \u001b[0me\u001b[0m\u001b[0;34m:\u001b[0m  \u001b[0;31m# pylint: disable=broad-except\u001b[0m\u001b[0;34m\u001b[0m\u001b[0;34m\u001b[0m\u001b[0m\n\u001b[1;32m     66\u001b[0m       \u001b[0mfiltered_tb\u001b[0m \u001b[0;34m=\u001b[0m \u001b[0m_process_traceback_frames\u001b[0m\u001b[0;34m(\u001b[0m\u001b[0me\u001b[0m\u001b[0;34m.\u001b[0m\u001b[0m__traceback__\u001b[0m\u001b[0;34m)\u001b[0m\u001b[0;34m\u001b[0m\u001b[0;34m\u001b[0m\u001b[0m\n",
            "\u001b[0;32m/usr/local/lib/python3.7/dist-packages/keras/engine/training.py\u001b[0m in \u001b[0;36mfit\u001b[0;34m(self, x, y, batch_size, epochs, verbose, callbacks, validation_split, validation_data, shuffle, class_weight, sample_weight, initial_epoch, steps_per_epoch, validation_steps, validation_batch_size, validation_freq, max_queue_size, workers, use_multiprocessing)\u001b[0m\n\u001b[1;32m   1407\u001b[0m                 _r=1):\n\u001b[1;32m   1408\u001b[0m               \u001b[0mcallbacks\u001b[0m\u001b[0;34m.\u001b[0m\u001b[0mon_train_batch_begin\u001b[0m\u001b[0;34m(\u001b[0m\u001b[0mstep\u001b[0m\u001b[0;34m)\u001b[0m\u001b[0;34m\u001b[0m\u001b[0;34m\u001b[0m\u001b[0m\n\u001b[0;32m-> 1409\u001b[0;31m               \u001b[0mtmp_logs\u001b[0m \u001b[0;34m=\u001b[0m \u001b[0mself\u001b[0m\u001b[0;34m.\u001b[0m\u001b[0mtrain_function\u001b[0m\u001b[0;34m(\u001b[0m\u001b[0miterator\u001b[0m\u001b[0;34m)\u001b[0m\u001b[0;34m\u001b[0m\u001b[0;34m\u001b[0m\u001b[0m\n\u001b[0m\u001b[1;32m   1410\u001b[0m               \u001b[0;32mif\u001b[0m \u001b[0mdata_handler\u001b[0m\u001b[0;34m.\u001b[0m\u001b[0mshould_sync\u001b[0m\u001b[0;34m:\u001b[0m\u001b[0;34m\u001b[0m\u001b[0;34m\u001b[0m\u001b[0m\n\u001b[1;32m   1411\u001b[0m                 \u001b[0mcontext\u001b[0m\u001b[0;34m.\u001b[0m\u001b[0masync_wait\u001b[0m\u001b[0;34m(\u001b[0m\u001b[0;34m)\u001b[0m\u001b[0;34m\u001b[0m\u001b[0;34m\u001b[0m\u001b[0m\n",
            "\u001b[0;32m/usr/local/lib/python3.7/dist-packages/tensorflow/python/util/traceback_utils.py\u001b[0m in \u001b[0;36merror_handler\u001b[0;34m(*args, **kwargs)\u001b[0m\n\u001b[1;32m    148\u001b[0m     \u001b[0mfiltered_tb\u001b[0m \u001b[0;34m=\u001b[0m \u001b[0;32mNone\u001b[0m\u001b[0;34m\u001b[0m\u001b[0;34m\u001b[0m\u001b[0m\n\u001b[1;32m    149\u001b[0m     \u001b[0;32mtry\u001b[0m\u001b[0;34m:\u001b[0m\u001b[0;34m\u001b[0m\u001b[0;34m\u001b[0m\u001b[0m\n\u001b[0;32m--> 150\u001b[0;31m       \u001b[0;32mreturn\u001b[0m \u001b[0mfn\u001b[0m\u001b[0;34m(\u001b[0m\u001b[0;34m*\u001b[0m\u001b[0margs\u001b[0m\u001b[0;34m,\u001b[0m \u001b[0;34m**\u001b[0m\u001b[0mkwargs\u001b[0m\u001b[0;34m)\u001b[0m\u001b[0;34m\u001b[0m\u001b[0;34m\u001b[0m\u001b[0m\n\u001b[0m\u001b[1;32m    151\u001b[0m     \u001b[0;32mexcept\u001b[0m \u001b[0mException\u001b[0m \u001b[0;32mas\u001b[0m \u001b[0me\u001b[0m\u001b[0;34m:\u001b[0m\u001b[0;34m\u001b[0m\u001b[0;34m\u001b[0m\u001b[0m\n\u001b[1;32m    152\u001b[0m       \u001b[0mfiltered_tb\u001b[0m \u001b[0;34m=\u001b[0m \u001b[0m_process_traceback_frames\u001b[0m\u001b[0;34m(\u001b[0m\u001b[0me\u001b[0m\u001b[0;34m.\u001b[0m\u001b[0m__traceback__\u001b[0m\u001b[0;34m)\u001b[0m\u001b[0;34m\u001b[0m\u001b[0;34m\u001b[0m\u001b[0m\n",
            "\u001b[0;32m/usr/local/lib/python3.7/dist-packages/tensorflow/python/eager/def_function.py\u001b[0m in \u001b[0;36m__call__\u001b[0;34m(self, *args, **kwds)\u001b[0m\n\u001b[1;32m    913\u001b[0m \u001b[0;34m\u001b[0m\u001b[0m\n\u001b[1;32m    914\u001b[0m       \u001b[0;32mwith\u001b[0m \u001b[0mOptionalXlaContext\u001b[0m\u001b[0;34m(\u001b[0m\u001b[0mself\u001b[0m\u001b[0;34m.\u001b[0m\u001b[0m_jit_compile\u001b[0m\u001b[0;34m)\u001b[0m\u001b[0;34m:\u001b[0m\u001b[0;34m\u001b[0m\u001b[0;34m\u001b[0m\u001b[0m\n\u001b[0;32m--> 915\u001b[0;31m         \u001b[0mresult\u001b[0m \u001b[0;34m=\u001b[0m \u001b[0mself\u001b[0m\u001b[0;34m.\u001b[0m\u001b[0m_call\u001b[0m\u001b[0;34m(\u001b[0m\u001b[0;34m*\u001b[0m\u001b[0margs\u001b[0m\u001b[0;34m,\u001b[0m \u001b[0;34m**\u001b[0m\u001b[0mkwds\u001b[0m\u001b[0;34m)\u001b[0m\u001b[0;34m\u001b[0m\u001b[0;34m\u001b[0m\u001b[0m\n\u001b[0m\u001b[1;32m    916\u001b[0m \u001b[0;34m\u001b[0m\u001b[0m\n\u001b[1;32m    917\u001b[0m       \u001b[0mnew_tracing_count\u001b[0m \u001b[0;34m=\u001b[0m \u001b[0mself\u001b[0m\u001b[0;34m.\u001b[0m\u001b[0mexperimental_get_tracing_count\u001b[0m\u001b[0;34m(\u001b[0m\u001b[0;34m)\u001b[0m\u001b[0;34m\u001b[0m\u001b[0;34m\u001b[0m\u001b[0m\n",
            "\u001b[0;32m/usr/local/lib/python3.7/dist-packages/tensorflow/python/eager/def_function.py\u001b[0m in \u001b[0;36m_call\u001b[0;34m(self, *args, **kwds)\u001b[0m\n\u001b[1;32m    945\u001b[0m       \u001b[0;31m# In this case we have created variables on the first call, so we run the\u001b[0m\u001b[0;34m\u001b[0m\u001b[0;34m\u001b[0m\u001b[0;34m\u001b[0m\u001b[0m\n\u001b[1;32m    946\u001b[0m       \u001b[0;31m# defunned version which is guaranteed to never create variables.\u001b[0m\u001b[0;34m\u001b[0m\u001b[0;34m\u001b[0m\u001b[0;34m\u001b[0m\u001b[0m\n\u001b[0;32m--> 947\u001b[0;31m       \u001b[0;32mreturn\u001b[0m \u001b[0mself\u001b[0m\u001b[0;34m.\u001b[0m\u001b[0m_stateless_fn\u001b[0m\u001b[0;34m(\u001b[0m\u001b[0;34m*\u001b[0m\u001b[0margs\u001b[0m\u001b[0;34m,\u001b[0m \u001b[0;34m**\u001b[0m\u001b[0mkwds\u001b[0m\u001b[0;34m)\u001b[0m  \u001b[0;31m# pylint: disable=not-callable\u001b[0m\u001b[0;34m\u001b[0m\u001b[0;34m\u001b[0m\u001b[0m\n\u001b[0m\u001b[1;32m    948\u001b[0m     \u001b[0;32melif\u001b[0m \u001b[0mself\u001b[0m\u001b[0;34m.\u001b[0m\u001b[0m_stateful_fn\u001b[0m \u001b[0;32mis\u001b[0m \u001b[0;32mnot\u001b[0m \u001b[0;32mNone\u001b[0m\u001b[0;34m:\u001b[0m\u001b[0;34m\u001b[0m\u001b[0;34m\u001b[0m\u001b[0m\n\u001b[1;32m    949\u001b[0m       \u001b[0;31m# Release the lock early so that multiple threads can perform the call\u001b[0m\u001b[0;34m\u001b[0m\u001b[0;34m\u001b[0m\u001b[0;34m\u001b[0m\u001b[0m\n",
            "\u001b[0;32m/usr/local/lib/python3.7/dist-packages/tensorflow/python/eager/function.py\u001b[0m in \u001b[0;36m__call__\u001b[0;34m(self, *args, **kwargs)\u001b[0m\n\u001b[1;32m   2452\u001b[0m        filtered_flat_args) = self._maybe_define_function(args, kwargs)\n\u001b[1;32m   2453\u001b[0m     return graph_function._call_flat(\n\u001b[0;32m-> 2454\u001b[0;31m         filtered_flat_args, captured_inputs=graph_function.captured_inputs)  # pylint: disable=protected-access\n\u001b[0m\u001b[1;32m   2455\u001b[0m \u001b[0;34m\u001b[0m\u001b[0m\n\u001b[1;32m   2456\u001b[0m   \u001b[0;34m@\u001b[0m\u001b[0mproperty\u001b[0m\u001b[0;34m\u001b[0m\u001b[0;34m\u001b[0m\u001b[0m\n",
            "\u001b[0;32m/usr/local/lib/python3.7/dist-packages/tensorflow/python/eager/function.py\u001b[0m in \u001b[0;36m_call_flat\u001b[0;34m(self, args, captured_inputs, cancellation_manager)\u001b[0m\n\u001b[1;32m   1859\u001b[0m       \u001b[0;31m# No tape is watching; skip to running the function.\u001b[0m\u001b[0;34m\u001b[0m\u001b[0;34m\u001b[0m\u001b[0;34m\u001b[0m\u001b[0m\n\u001b[1;32m   1860\u001b[0m       return self._build_call_outputs(self._inference_function.call(\n\u001b[0;32m-> 1861\u001b[0;31m           ctx, args, cancellation_manager=cancellation_manager))\n\u001b[0m\u001b[1;32m   1862\u001b[0m     forward_backward = self._select_forward_and_backward_functions(\n\u001b[1;32m   1863\u001b[0m         \u001b[0margs\u001b[0m\u001b[0;34m,\u001b[0m\u001b[0;34m\u001b[0m\u001b[0;34m\u001b[0m\u001b[0m\n",
            "\u001b[0;32m/usr/local/lib/python3.7/dist-packages/tensorflow/python/eager/function.py\u001b[0m in \u001b[0;36mcall\u001b[0;34m(self, ctx, args, cancellation_manager)\u001b[0m\n\u001b[1;32m    500\u001b[0m               \u001b[0minputs\u001b[0m\u001b[0;34m=\u001b[0m\u001b[0margs\u001b[0m\u001b[0;34m,\u001b[0m\u001b[0;34m\u001b[0m\u001b[0;34m\u001b[0m\u001b[0m\n\u001b[1;32m    501\u001b[0m               \u001b[0mattrs\u001b[0m\u001b[0;34m=\u001b[0m\u001b[0mattrs\u001b[0m\u001b[0;34m,\u001b[0m\u001b[0;34m\u001b[0m\u001b[0;34m\u001b[0m\u001b[0m\n\u001b[0;32m--> 502\u001b[0;31m               ctx=ctx)\n\u001b[0m\u001b[1;32m    503\u001b[0m         \u001b[0;32melse\u001b[0m\u001b[0;34m:\u001b[0m\u001b[0;34m\u001b[0m\u001b[0;34m\u001b[0m\u001b[0m\n\u001b[1;32m    504\u001b[0m           outputs = execute.execute_with_cancellation(\n",
            "\u001b[0;32m/usr/local/lib/python3.7/dist-packages/tensorflow/python/eager/execute.py\u001b[0m in \u001b[0;36mquick_execute\u001b[0;34m(op_name, num_outputs, inputs, attrs, ctx, name)\u001b[0m\n\u001b[1;32m     53\u001b[0m     \u001b[0mctx\u001b[0m\u001b[0;34m.\u001b[0m\u001b[0mensure_initialized\u001b[0m\u001b[0;34m(\u001b[0m\u001b[0;34m)\u001b[0m\u001b[0;34m\u001b[0m\u001b[0;34m\u001b[0m\u001b[0m\n\u001b[1;32m     54\u001b[0m     tensors = pywrap_tfe.TFE_Py_Execute(ctx._handle, device_name, op_name,\n\u001b[0;32m---> 55\u001b[0;31m                                         inputs, attrs, num_outputs)\n\u001b[0m\u001b[1;32m     56\u001b[0m   \u001b[0;32mexcept\u001b[0m \u001b[0mcore\u001b[0m\u001b[0;34m.\u001b[0m\u001b[0m_NotOkStatusException\u001b[0m \u001b[0;32mas\u001b[0m \u001b[0me\u001b[0m\u001b[0;34m:\u001b[0m\u001b[0;34m\u001b[0m\u001b[0;34m\u001b[0m\u001b[0m\n\u001b[1;32m     57\u001b[0m     \u001b[0;32mif\u001b[0m \u001b[0mname\u001b[0m \u001b[0;32mis\u001b[0m \u001b[0;32mnot\u001b[0m \u001b[0;32mNone\u001b[0m\u001b[0;34m:\u001b[0m\u001b[0;34m\u001b[0m\u001b[0;34m\u001b[0m\u001b[0m\n",
            "\u001b[0;31mKeyboardInterrupt\u001b[0m: "
          ]
        }
      ]
    },
    {
      "cell_type": "code",
      "source": [],
      "metadata": {
        "colab": {
          "base_uri": "https://localhost:8080/"
        },
        "id": "UpCeHKYktG2q",
        "outputId": "b98de840-51f0-4dad-bfb0-ec99efcff0b9"
      },
      "execution_count": null,
      "outputs": [
        {
          "output_type": "stream",
          "name": "stdout",
          "text": [
            "\u001b[38;2;244;252;3;48;2;55;65;80m Starting training using base model VGG19 training all layers \n",
            "\u001b[0m\n",
            "Epoch 1/30\n",
            "188/188 [==============================] - ETA: 0s - loss: 3.2640 - accuracy: 0.6670 \u001b[38;2;244;252;3;48;2;55;65;80m Epoch     Loss   Accuracy  V_loss    V_acc     LR     Next LR   Monitor  Duration\n",
            "\u001b[0m\n",
            "\u001b[38;2;0;255;0;48;2;55;65;80m 1 /30     3.264   66.700   9.05859  32.533   0.00100  0.00100  accuracy  5588.69 \n",
            "\u001b[0m\n",
            "188/188 [==============================] - 5589s 30s/step - loss: 3.2640 - accuracy: 0.6670 - val_loss: 9.0586 - val_accuracy: 0.3253\n",
            "Epoch 2/30\n",
            "188/188 [==============================] - ETA: 0s - loss: 1.4715 - accuracy: 0.8022\u001b[38;2;0;255;0;48;2;55;65;80m 2 /30     1.472   80.217   5.44080  32.533   0.00100  0.00100  accuracy   165.21 \n",
            "\u001b[0m\n",
            "188/188 [==============================] - 165s 878ms/step - loss: 1.4715 - accuracy: 0.8022 - val_loss: 5.4408 - val_accuracy: 0.3253\n",
            "Epoch 3/30\n",
            "188/188 [==============================] - ETA: 0s - loss: 0.9617 - accuracy: 0.8390\u001b[38;2;0;255;0;48;2;55;65;80m 3 /30     0.962   83.900   1.00266  70.400   0.00100  0.00100  accuracy   162.47 \n",
            "\u001b[0m\n",
            "188/188 [==============================] - 163s 863ms/step - loss: 0.9617 - accuracy: 0.8390 - val_loss: 1.0027 - val_accuracy: 0.7040\n",
            "Epoch 4/30\n",
            "188/188 [==============================] - ETA: 0s - loss: 0.6877 - accuracy: 0.8788\u001b[38;2;0;255;0;48;2;55;65;80m 4 /30     0.688   87.883   1.00687  60.000   0.00100  0.00100  accuracy   164.54 \n",
            "\u001b[0m\n",
            "188/188 [==============================] - 165s 874ms/step - loss: 0.6877 - accuracy: 0.8788 - val_loss: 1.0069 - val_accuracy: 0.6000\n",
            "Epoch 5/30\n",
            "188/188 [==============================] - ETA: 0s - loss: 0.5262 - accuracy: 0.8937\u001b[38;2;0;255;0;48;2;55;65;80m 5 /30     0.526   89.367   1.41833  33.733   0.00100  0.00100  accuracy   165.47 \n",
            "\u001b[0m\n",
            "188/188 [==============================] - 166s 879ms/step - loss: 0.5262 - accuracy: 0.8937 - val_loss: 1.4183 - val_accuracy: 0.3373\n",
            "Epoch 6/30\n",
            "188/188 [==============================] - ETA: 0s - loss: 0.4289 - accuracy: 0.9058\u001b[38;2;0;255;0;48;2;55;65;80m 6 /30     0.429   90.583   0.84736  66.000   0.00100  0.00100  val_loss   162.08 \n",
            "\u001b[0m\n",
            "188/188 [==============================] - 162s 861ms/step - loss: 0.4289 - accuracy: 0.9058 - val_loss: 0.8474 - val_accuracy: 0.6600\n",
            "Epoch 7/30\n",
            "188/188 [==============================] - ETA: 0s - loss: 0.3785 - accuracy: 0.9143\u001b[38;2;245;170;66;48;2;55;65;80m 7 /30     0.378   91.433   0.90430  64.667   0.00100  0.00050  val_loss   165.91 \n",
            "\u001b[0m\n",
            "188/188 [==============================] - 166s 881ms/step - loss: 0.3785 - accuracy: 0.9143 - val_loss: 0.9043 - val_accuracy: 0.6467\n",
            "Epoch 8/30\n",
            "188/188 [==============================] - ETA: 0s - loss: 0.3752 - accuracy: 0.9135\u001b[38;2;0;255;0;48;2;55;65;80m 8 /30     0.375   91.350   0.37038  92.267   0.00050  0.00050  val_loss   166.96 \n",
            "\u001b[0m\n",
            "188/188 [==============================] - 167s 887ms/step - loss: 0.3752 - accuracy: 0.9135 - val_loss: 0.3704 - val_accuracy: 0.9227\n",
            "Epoch 9/30\n",
            "188/188 [==============================] - ETA: 0s - loss: 0.3539 - accuracy: 0.9187\u001b[38;2;245;170;66;48;2;55;65;80m 9 /30     0.354   91.867   0.55817  72.667   0.00050  0.00025  val_loss   164.05 \n",
            "\u001b[0m\n",
            "188/188 [==============================] - 164s 871ms/step - loss: 0.3539 - accuracy: 0.9187 - val_loss: 0.5582 - val_accuracy: 0.7267\n",
            "Epoch 10/30\n",
            "188/188 [==============================] - ETA: 0s - loss: 0.3460 - accuracy: 0.9193\u001b[38;2;245;170;66;48;2;55;65;80m10 /30     0.346   91.933   0.55540  76.133   0.00025  0.00013  val_loss   163.21 \n",
            "\u001b[0m\n",
            "188/188 [==============================] - 163s 867ms/step - loss: 0.3460 - accuracy: 0.9193 - val_loss: 0.5554 - val_accuracy: 0.7613\n",
            "Epoch 11/30\n",
            "188/188 [==============================] - ETA: 0s - loss: 0.3426 - accuracy: 0.9248\u001b[38;2;245;170;66;48;2;55;65;80m11 /30     0.343   92.483   0.38016  91.333   0.00013  0.00006  val_loss   161.64 \n",
            "\u001b[0m\n",
            "\u001b[38;2;0;255;0;48;2;55;65;80m training has been halted at epoch 11 after 3 adjustments of learning rate with no improvement\n",
            "\u001b[0m\n",
            "188/188 [==============================] - 162s 859ms/step - loss: 0.3426 - accuracy: 0.9248 - val_loss: 0.3802 - val_accuracy: 0.9133\n"
          ]
        }
      ]
    },
    {
      "cell_type": "code",
      "source": [
        "def tr_plot(tr_data, start_epoch):\n",
        "    #Plot the training and validation data\n",
        "    tacc=tr_data.history['accuracy']\n",
        "    tloss=tr_data.history['loss']\n",
        "    vacc=tr_data.history['val_accuracy']\n",
        "    vloss=tr_data.history['val_loss']\n",
        "    Epoch_count=len(tacc)+ start_epoch\n",
        "    Epochs=[]\n",
        "    for i in range (start_epoch ,Epoch_count):\n",
        "        Epochs.append(i+1)   \n",
        "    index_loss=np.argmin(vloss)#  this is the epoch with the lowest validation loss\n",
        "    val_lowest=vloss[index_loss]\n",
        "    index_acc=np.argmax(vacc)\n",
        "    acc_highest=vacc[index_acc]\n",
        "    plt.style.use('fivethirtyeight')\n",
        "    sc_label='best epoch= '+ str(index_loss+1 +start_epoch)\n",
        "    vc_label='best epoch= '+ str(index_acc + 1+ start_epoch)\n",
        "    fig,axes=plt.subplots(nrows=1, ncols=2, figsize=(20,8))\n",
        "    axes[0].plot(Epochs,tloss, 'r', label='Training loss')\n",
        "    axes[0].plot(Epochs,vloss,'g',label='Validation loss' )\n",
        "    axes[0].scatter(index_loss+1 +start_epoch,val_lowest, s=150, c= 'blue', label=sc_label)\n",
        "    axes[0].set_title('Training and Validation Loss')\n",
        "    axes[0].set_xlabel('Epochs')\n",
        "    axes[0].set_ylabel('Loss')\n",
        "    axes[0].legend()\n",
        "    axes[1].plot (Epochs,tacc,'r',label= 'Training Accuracy')\n",
        "    axes[1].plot (Epochs,vacc,'g',label= 'Validation Accuracy')\n",
        "    axes[1].scatter(index_acc+1 +start_epoch,acc_highest, s=150, c= 'blue', label=vc_label)\n",
        "    axes[1].set_title('Training and Validation Accuracy')\n",
        "    axes[1].set_xlabel('Epochs')\n",
        "    axes[1].set_ylabel('Accuracy')\n",
        "    axes[1].legend()\n",
        "    plt.tight_layout\n",
        "    #plt.style.use('fivethirtyeight')\n",
        "    plt.show()"
      ],
      "metadata": {
        "id": "Rva1MUPLWmVh"
      },
      "execution_count": null,
      "outputs": []
    },
    {
      "cell_type": "code",
      "source": [
        "tr_plot(history,0)\n",
        "save_dir=r'./'\n",
        "subject='fruits'\n",
        "acc=model.evaluate( test_gen, batch_size=test_batch_size, verbose=1, steps=test_steps, return_dict=False)[1]*100\n",
        "msg=f'accuracy on the test set is {acc:5.2f} %'\n",
        "print_in_color(msg, (0,255,0),(55,65,80))\n",
        "save_id=str (model_name +  '-' + subject +'-'+ str(acc)[:str(acc).rfind('.')+3] + '.h5')\n",
        "save_loc=os.path.join(save_dir, save_id)\n",
        "model.save(save_loc)"
      ],
      "metadata": {
        "colab": {
          "base_uri": "https://localhost:8080/",
          "height": 610
        },
        "id": "xth_YKBnWpqO",
        "outputId": "b9055a17-fa17-44f1-8a8d-d1d8070f609b"
      },
      "execution_count": null,
      "outputs": [
        {
          "output_type": "display_data",
          "data": {
            "text/plain": [
              "<Figure size 1440x576 with 2 Axes>"
            ],
            "image/png": "[encoded data removed]"
          },
          "metadata": {}
        },
        {
          "output_type": "stream",
          "name": "stdout",
          "text": [
            "20/20 [==============================] - 1215s 64s/step - loss: 5.2978 - accuracy: 0.3993\n",
            "\u001b[38;2;0;255;0;48;2;55;65;80maccuracy on the test set is 39.93 %\n",
            "\u001b[0m\n"
          ]
        }
      ]
    },
    {
      "cell_type": "code",
      "source": [
        "from sklearn.metrics import classification_report\n",
        "from sklearn.metrics import confusion_matrix\n",
        "from sklearn.metrics import f1_score\n",
        "Y_pred = model.predict(test_gen)\n",
        "y_pred = np.argmax(Y_pred ,axis =1)\n",
        "print('Confusion Matrix')\n",
        "confusion_matrix = confusion_matrix(test_gen.classes, y_pred)\n",
        "print(confusion_matrix)\n",
        "print('Classification Report')\n",
        "target_names = ['aca','n', 'scc']\n",
        "print(classification_report(test_gen.classes, y_pred, target_names=target_names))"
      ],
      "metadata": {
        "colab": {
          "base_uri": "https://localhost:8080/"
        },
        "id": "DupW-em4ZxkA",
        "outputId": "39441fe0-7a27-4f17-e9ca-7bc4fdc542ec"
      },
      "execution_count": null,
      "outputs": [
        {
          "output_type": "stream",
          "name": "stdout",
          "text": [
            "Confusion Matrix\n",
            "[[  0 510   3]\n",
            " [  0 494   0]\n",
            " [  0 389 104]]\n",
            "Classification Report\n",
            "              precision    recall  f1-score   support\n",
            "\n",
            "         aca       0.00      0.00      0.00       513\n",
            "           n       0.35      1.00      0.52       494\n",
            "         scc       0.97      0.21      0.35       493\n",
            "\n",
            "    accuracy                           0.40      1500\n",
            "   macro avg       0.44      0.40      0.29      1500\n",
            "weighted avg       0.44      0.40      0.29      1500\n",
            "\n"
          ]
        },
        {
          "output_type": "stream",
          "name": "stderr",
          "text": [
            "/usr/local/lib/python3.7/dist-packages/sklearn/metrics/_classification.py:1318: UndefinedMetricWarning: Precision and F-score are ill-defined and being set to 0.0 in labels with no predicted samples. Use `zero_division` parameter to control this behavior.\n",
            "  _warn_prf(average, modifier, msg_start, len(result))\n",
            "/usr/local/lib/python3.7/dist-packages/sklearn/metrics/_classification.py:1318: UndefinedMetricWarning: Precision and F-score are ill-defined and being set to 0.0 in labels with no predicted samples. Use `zero_division` parameter to control this behavior.\n",
            "  _warn_prf(average, modifier, msg_start, len(result))\n",
            "/usr/local/lib/python3.7/dist-packages/sklearn/metrics/_classification.py:1318: UndefinedMetricWarning: Precision and F-score are ill-defined and being set to 0.0 in labels with no predicted samples. Use `zero_division` parameter to control this behavior.\n",
            "  _warn_prf(average, modifier, msg_start, len(result))\n"
          ]
        }
      ]
    },
    {
      "cell_type": "code",
      "source": [
        "def print_info( test_gen, preds, print_code, save_dir, subject ):\n",
        "    class_dict=test_gen.class_indices\n",
        "    labels= test_gen.labels\n",
        "    file_names= test_gen.filenames \n",
        "    error_list=[]\n",
        "    true_class=[]\n",
        "    pred_class=[]\n",
        "    prob_list=[]\n",
        "    new_dict={}\n",
        "    error_indices=[]\n",
        "    y_pred=[]\n",
        "    for key,value in class_dict.items():\n",
        "        new_dict[value]=key             # dictionary {integer of class number: string of class name}\n",
        "    # store new_dict as a text fine in the save_dir\n",
        "    classes=list(new_dict.values())     # list of string of class names\n",
        "    dict_as_text=str(new_dict)\n",
        "    dict_name= subject + '-' +str(len(classes)) +'.txt'  \n",
        "    dict_path=os.path.join(save_dir,dict_name)    \n",
        "    with open(dict_path, 'w') as x_file:\n",
        "        x_file.write(dict_as_text)    \n",
        "    errors=0      \n",
        "    for i, p in enumerate(preds):\n",
        "        pred_index=np.argmax(p)        \n",
        "        true_index=labels[i]  # labels are integer values\n",
        "        if pred_index != true_index: # a misclassification has occurred\n",
        "            error_list.append(file_names[i])\n",
        "            true_class.append(new_dict[true_index])\n",
        "            pred_class.append(new_dict[pred_index])\n",
        "            prob_list.append(p[pred_index])\n",
        "            error_indices.append(true_index)            \n",
        "            errors=errors + 1\n",
        "        y_pred.append(pred_index)    \n",
        "    if print_code !=0:\n",
        "        if errors>0:\n",
        "            if print_code>errors:\n",
        "                r=errors\n",
        "            else:\n",
        "                r=print_code           \n",
        "            msg='{0:^28s}{1:^28s}{2:^28s}{3:^16s}'.format('Filename', 'Predicted Class' , 'True Class', 'Probability')\n",
        "            print_in_color(msg, (0,255,0),(55,65,80))\n",
        "            for i in range(r):                \n",
        "                split1=os.path.split(error_list[i])                \n",
        "                split2=os.path.split(split1[0])                \n",
        "                fname=split2[1] + '/' + split1[1]\n",
        "                msg='{0:^28s}{1:^28s}{2:^28s}{3:4s}{4:^6.4f}'.format(fname, pred_class[i],true_class[i], ' ', prob_list[i])\n",
        "                print_in_color(msg, (255,255,255), (55,65,60))\n",
        "                #print(error_list[i]  , pred_class[i], true_class[i], prob_list[i])               \n",
        "        else:\n",
        "            msg='With accuracy of 100 % there are no errors to print'\n",
        "            print_in_color(msg, (0,255,0),(55,65,80))\n",
        "    if errors>0:\n",
        "        plot_bar=[]\n",
        "        plot_class=[]\n",
        "        for  key, value in new_dict.items():        \n",
        "            count=error_indices.count(key) \n",
        "            if count!=0:\n",
        "                plot_bar.append(count) # list containg how many times a class c had an error\n",
        "                plot_class.append(value)   # stores the class \n",
        "        fig=plt.figure()\n",
        "        fig.set_figheight(len(plot_class)/3)\n",
        "        fig.set_figwidth(10)\n",
        "        plt.style.use('fivethirtyeight')\n",
        "        for i in range(0, len(plot_class)):\n",
        "            c=plot_class[i]\n",
        "            x=plot_bar[i]\n",
        "            plt.barh(c, x, )\n",
        "            plt.title( ' Errors by Class on Test Set')\n",
        "    y_true= np.array(labels)        \n",
        "    y_pred=np.array(y_pred)\n",
        "    if len(classes)<= 30:\n",
        "        # create a confusion matrix \n",
        "        cm = confusion_matrix(y_true, y_pred )        \n",
        "        length=len(classes)\n",
        "        if length<8:\n",
        "            fig_width=8\n",
        "            fig_height=8\n",
        "        else:\n",
        "            fig_width= int(length * .5)\n",
        "            fig_height= int(length * .5)\n",
        "        plt.figure(figsize=(fig_width, fig_height))\n",
        "        sns.heatmap(cm, annot=True, vmin=0, fmt='g', cmap='Blues', cbar=False)       \n",
        "        plt.xticks(np.arange(length)+.5, classes, rotation= 90)\n",
        "        plt.yticks(np.arange(length)+.5, classes, rotation=0)\n",
        "        plt.xlabel(\"Predicted\")\n",
        "        plt.ylabel(\"Actual\")\n",
        "        plt.title(\"Confusion Matrix\")\n",
        "        plt.show()\n",
        "    clr = classification_report(y_true, y_pred, target_names=classes)\n",
        "    print(\"Classification Report:\\n----------------------\\n\", clr)"
      ],
      "metadata": {
        "id": "ga8Mo_WIZeX5"
      },
      "execution_count": null,
      "outputs": []
    },
    {
      "cell_type": "code",
      "source": [
        "print_code=0\n",
        "preds=model.predict(test_gen) \n",
        "print_info( test_gen, preds, print_code, save_dir, subject )  "
      ],
      "metadata": {
        "colab": {
          "base_uri": "https://localhost:8080/",
          "height": 412
        },
        "id": "KZUALQ9sZSq7",
        "outputId": "de39d0de-7147-4ddb-b87c-ac4499f4496f"
      },
      "execution_count": null,
      "outputs": [
        {
          "output_type": "error",
          "ename": "TypeError",
          "evalue": "ignored",
          "traceback": [
            "\u001b[0;31m---------------------------------------------------------------------------\u001b[0m",
            "\u001b[0;31mTypeError\u001b[0m                                 Traceback (most recent call last)",
            "\u001b[0;32m<ipython-input-20-c9aa3b6fba69>\u001b[0m in \u001b[0;36m<module>\u001b[0;34m\u001b[0m\n\u001b[1;32m      1\u001b[0m \u001b[0mprint_code\u001b[0m\u001b[0;34m=\u001b[0m\u001b[0;36m0\u001b[0m\u001b[0;34m\u001b[0m\u001b[0;34m\u001b[0m\u001b[0m\n\u001b[1;32m      2\u001b[0m \u001b[0mpreds\u001b[0m\u001b[0;34m=\u001b[0m\u001b[0mmodel\u001b[0m\u001b[0;34m.\u001b[0m\u001b[0mpredict\u001b[0m\u001b[0;34m(\u001b[0m\u001b[0mtest_gen\u001b[0m\u001b[0;34m)\u001b[0m\u001b[0;34m\u001b[0m\u001b[0;34m\u001b[0m\u001b[0m\n\u001b[0;32m----> 3\u001b[0;31m \u001b[0mprint_info\u001b[0m\u001b[0;34m(\u001b[0m \u001b[0mtest_gen\u001b[0m\u001b[0;34m,\u001b[0m \u001b[0mpreds\u001b[0m\u001b[0;34m,\u001b[0m \u001b[0mprint_code\u001b[0m\u001b[0;34m,\u001b[0m \u001b[0msave_dir\u001b[0m\u001b[0;34m,\u001b[0m \u001b[0msubject\u001b[0m \u001b[0;34m)\u001b[0m\u001b[0;34m\u001b[0m\u001b[0;34m\u001b[0m\u001b[0m\n\u001b[0m",
            "\u001b[0;32m<ipython-input-19-958dfc2ef4a2>\u001b[0m in \u001b[0;36mprint_info\u001b[0;34m(test_gen, preds, print_code, save_dir, subject)\u001b[0m\n\u001b[1;32m     70\u001b[0m     \u001b[0;32mif\u001b[0m \u001b[0mlen\u001b[0m\u001b[0;34m(\u001b[0m\u001b[0mclasses\u001b[0m\u001b[0;34m)\u001b[0m\u001b[0;34m<=\u001b[0m \u001b[0;36m30\u001b[0m\u001b[0;34m:\u001b[0m\u001b[0;34m\u001b[0m\u001b[0;34m\u001b[0m\u001b[0m\n\u001b[1;32m     71\u001b[0m         \u001b[0;31m# create a confusion matrix\u001b[0m\u001b[0;34m\u001b[0m\u001b[0;34m\u001b[0m\u001b[0;34m\u001b[0m\u001b[0m\n\u001b[0;32m---> 72\u001b[0;31m         \u001b[0mcm\u001b[0m \u001b[0;34m=\u001b[0m \u001b[0mconfusion_matrix\u001b[0m\u001b[0;34m(\u001b[0m\u001b[0my_true\u001b[0m\u001b[0;34m,\u001b[0m \u001b[0my_pred\u001b[0m \u001b[0;34m)\u001b[0m\u001b[0;34m\u001b[0m\u001b[0;34m\u001b[0m\u001b[0m\n\u001b[0m\u001b[1;32m     73\u001b[0m         \u001b[0mlength\u001b[0m\u001b[0;34m=\u001b[0m\u001b[0mlen\u001b[0m\u001b[0;34m(\u001b[0m\u001b[0mclasses\u001b[0m\u001b[0;34m)\u001b[0m\u001b[0;34m\u001b[0m\u001b[0;34m\u001b[0m\u001b[0m\n\u001b[1;32m     74\u001b[0m         \u001b[0;32mif\u001b[0m \u001b[0mlength\u001b[0m\u001b[0;34m<\u001b[0m\u001b[0;36m8\u001b[0m\u001b[0;34m:\u001b[0m\u001b[0;34m\u001b[0m\u001b[0;34m\u001b[0m\u001b[0m\n",
            "\u001b[0;31mTypeError\u001b[0m: 'numpy.ndarray' object is not callable"
          ]
        },
        {
          "output_type": "display_data",
          "data": {
            "text/plain": [
              "<Figure size 720x48 with 1 Axes>"
            ],
            "image/png": "[encoded data removed]"
          },
          "metadata": {}
        }
      ]
    }
  ]
}